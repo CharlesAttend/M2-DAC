{
 "cells": [
  {
   "cell_type": "code",
   "execution_count": 26,
   "metadata": {},
   "outputs": [
    {
     "name": "stderr",
     "output_type": "stream",
     "text": [
      "INFO:root:Datasets: train=1599201, val=799, test=359\n",
      "INFO:root:Vocabulary size: 1000\n"
     ]
    }
   ],
   "source": [
    "import logging\n",
    "\n",
    "from torch.nn.modules.pooling import MaxPool1d\n",
    "logging.basicConfig(level=logging.INFO)\n",
    "\n",
    "import heapq\n",
    "from pathlib import Path\n",
    "import gzip\n",
    "\n",
    "from tqdm import tqdm\n",
    "\n",
    "import torch\n",
    "import torch.nn as nn\n",
    "from torch.utils.tensorboard import SummaryWriter\n",
    "import sentencepiece as spm\n",
    "\n",
    "from tp8_preprocess import TextDataset\n",
    "\n",
    "# Utiliser tp8_preprocess pour générer le vocabulaire BPE et\n",
    "# le jeu de donnée dans un format compact\n",
    "\n",
    "# --- Configuration\n",
    "\n",
    "# Taille du vocabulaire\n",
    "vocab_size = 1000\n",
    "try:\n",
    "    MAINDIR = Path(__file__).parent\n",
    "except NameError:\n",
    "    MAINDIR = Path(\"/tempory/M2-DAC/AMAL/TME/TME8/src/tp8.py\").parent\n",
    "# Chargement du tokenizer\n",
    "\n",
    "tokenizer = spm.SentencePieceProcessor()\n",
    "tokenizer.Load(f\"wp{vocab_size}.model\")\n",
    "ntokens = len(tokenizer)\n",
    "\n",
    "def loaddata(mode):\n",
    "    with gzip.open(f\"{mode}-{vocab_size}.pth\", \"rb\") as fp:\n",
    "        return torch.load(fp)\n",
    "\n",
    "\n",
    "test = loaddata(\"test\")\n",
    "train = loaddata(\"train\")\n",
    "TRAIN_BATCHSIZE=500\n",
    "TEST_BATCHSIZE=500\n",
    "\n",
    "\n",
    "# --- Chargements des jeux de données train, validation et test\n",
    "\n",
    "val_size = 1000\n",
    "train_size = len(train) - val_size\n",
    "train, val = torch.utils.data.random_split(train, [train_size, val_size])\n",
    "\n",
    "logging.info(\"Datasets: train=%d, val=%d, test=%d\", train_size, val_size, len(test))\n",
    "logging.info(\"Vocabulary size: %d\", vocab_size)\n",
    "train_iter = torch.utils.data.DataLoader(train, batch_size=TRAIN_BATCHSIZE, collate_fn=TextDataset.collate)\n",
    "val_iter = torch.utils.data.DataLoader(val, batch_size=TEST_BATCHSIZE, collate_fn=TextDataset.collate)\n",
    "test_iter = torch.utils.data.DataLoader(test, batch_size=TEST_BATCHSIZE, collate_fn=TextDataset.collate)"
   ]
  },
  {
   "cell_type": "code",
   "execution_count": 27,
   "metadata": {},
   "outputs": [
    {
     "data": {
      "text/plain": [
       "(torch.Size([500, 59]), torch.Size([500]), 500)"
      ]
     },
     "execution_count": 27,
     "metadata": {},
     "output_type": "execute_result"
    }
   ],
   "source": [
    "x, y = next(next(iter(train_iter)))\n",
    "x.size(), y.size(), TRAIN_BATCHSIZE"
   ]
  },
  {
   "cell_type": "code",
   "execution_count": 28,
   "metadata": {},
   "outputs": [],
   "source": [
    "train_raw_data = loaddata(\"train\")"
   ]
  },
  {
   "cell_type": "code",
   "execution_count": 29,
   "metadata": {},
   "outputs": [
    {
     "data": {
      "text/plain": [
       "0    800000\n",
       "1    800000\n",
       "dtype: int64"
      ]
     },
     "execution_count": 29,
     "metadata": {},
     "output_type": "execute_result"
    }
   ],
   "source": [
    "import pandas as pd\n",
    "pd.Series(train_raw_data.labels).value_counts()"
   ]
  },
  {
   "cell_type": "code",
   "execution_count": 30,
   "metadata": {},
   "outputs": [
    {
     "data": {
      "text/plain": [
       "1    182\n",
       "0    177\n",
       "dtype: int64"
      ]
     },
     "execution_count": 30,
     "metadata": {},
     "output_type": "execute_result"
    }
   ],
   "source": [
    "pd.Series(loaddata('test').labels).value_counts()"
   ]
  },
  {
   "cell_type": "code",
   "execution_count": null,
   "metadata": {},
   "outputs": [],
   "source": [
    "class textCNN(nn.Module):\n",
    "    def __init__(self, vocab_size, embedding_dim, *args, **kwargs) -> None:\n",
    "        super().__init__(*args, **kwargs)\n",
    "        self.embedding = nn.Embedding(vocab_size, embedding_dim)\n",
    "        self.seq = nn.Sequential([\n",
    "            nn.Conv1d(1, 64),\n",
    "            nn.MaxPool1d(),\n",
    "        ])\n",
    "        self.conv1 = \n",
    "        self.pool1 = \n",
    "    \n",
    "    def forward(self, x):\n",
    "        pass"
   ]
  },
  {
   "cell_type": "code",
   "execution_count": 32,
   "metadata": {},
   "outputs": [
    {
     "data": {
      "text/plain": [
       "torch.Size([500, 59, 64])"
      ]
     },
     "execution_count": 32,
     "metadata": {},
     "output_type": "execute_result"
    }
   ],
   "source": [
    "nn.Embedding(vocab_size, 64)(x).size()"
   ]
  },
  {
   "cell_type": "code",
   "execution_count": 33,
   "metadata": {},
   "outputs": [
    {
     "data": {
      "text/plain": [
       "torch.Size([500, 59])"
      ]
     },
     "execution_count": 33,
     "metadata": {},
     "output_type": "execute_result"
    }
   ],
   "source": [
    "x.size()"
   ]
  },
  {
   "cell_type": "code",
   "execution_count": 37,
   "metadata": {},
   "outputs": [
    {
     "name": "stdout",
     "output_type": "stream",
     "text": [
      "torch.Size([500, 59, 64])\n",
      "torch.Size([500, 63, 64])\n",
      "torch.Size([500, 52, 64])\n"
     ]
    }
   ],
   "source": [
    "for i, (x, y) in enumerate(train_iter):\n",
    "    print(nn.Embedding(vocab_size, 64)(x).size())\n",
    "    if i >= 2:\n",
    "        break\n"
   ]
  },
  {
   "cell_type": "code",
   "execution_count": null,
   "metadata": {},
   "outputs": [],
   "source": []
  }
 ],
 "metadata": {
  "kernelspec": {
   "display_name": "deepdac",
   "language": "python",
   "name": "python3"
  },
  "language_info": {
   "codemirror_mode": {
    "name": "ipython",
    "version": 3
   },
   "file_extension": ".py",
   "mimetype": "text/x-python",
   "name": "python",
   "nbconvert_exporter": "python",
   "pygments_lexer": "ipython3",
   "version": "3.9.6"
  }
 },
 "nbformat": 4,
 "nbformat_minor": 2
}
