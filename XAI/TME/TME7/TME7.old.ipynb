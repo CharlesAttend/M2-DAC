{
 "cells": [
  {
   "cell_type": "code",
   "execution_count": null,
   "metadata": {},
   "outputs": [],
   "source": [
    "import numpy as np\n",
    "from copy import copy"
   ]
  },
  {
   "cell_type": "markdown",
   "metadata": {},
   "source": [
    "pour archive pcq j'ai pas confiance au git"
   ]
  },
  {
   "cell_type": "code",
   "execution_count": null,
   "metadata": {},
   "outputs": [],
   "source": [
    "def untrace_tree(trace_path, node, before):\n",
    "    if node.result is not None:\n",
    "        before.append((None, node.result))\n",
    "        trace_path.append(before)\n",
    "        print(f\"End of tree at {node.result}\")\n",
    "    else:\n",
    "        before_false = copy(before)\n",
    "        before_false.append((node.feature, False, node.value))\n",
    "        before_true = copy(before)\n",
    "        before_true.deepcopy((node.feature, True, node.value))\n",
    "        untrace_tree(trace_path, node.false_branch, before_false)\n",
    "        untrace_tree(trace_path, node.true_branch, before_true)\n",
    "\n",
    "\n",
    "trace_path = []\n",
    "untrace_tree(trace_path, tree_xai.tree, [])\n",
    "trace_path"
   ]
  },
  {
   "cell_type": "code",
   "execution_count": null,
   "metadata": {},
   "outputs": [],
   "source": [
    "def filter_trace_path(class_to_not_keep, trace_path):\n",
    "    l = []\n",
    "    for path in trace_path:\n",
    "        end_class = path[-1][1]\n",
    "        if end_class != class_to_not_keep:\n",
    "            l.append(path)\n",
    "    return l\n",
    "\n",
    "\n",
    "filtered_trace_path = filter_trace_path(1, trace_path)\n",
    "filtered_trace_path"
   ]
  },
  {
   "cell_type": "code",
   "execution_count": null,
   "metadata": {},
   "outputs": [],
   "source": [
    "def count_rules(to_explain, trace_path):\n",
    "    l = []\n",
    "    for path in trace_path:\n",
    "        n_r = 0\n",
    "        for rule in path[:-1]:\n",
    "            a, b, c = rule\n",
    "            if b is False:\n",
    "                if to_explain[a] != c:  # l'exemple valide la règle\n",
    "                    pass\n",
    "                else:  # l'exemple ne valise pas la règle\n",
    "                    n_r += 1\n",
    "            else:  # b == '=='\n",
    "                if to_explain[a] == c:  # l'exemple valide la règle\n",
    "                    pass\n",
    "                else:  # l'exemple ne valise pas la règle\n",
    "                    n_r += 1\n",
    "        l.append(n_r)\n",
    "    return np.array(l)\n",
    "\n",
    "\n",
    "sample = X.iloc[0]\n",
    "class_to_not_keep = y.iloc[0]\n",
    "print(sample)\n",
    "print(class_to_not_keep)\n",
    "filtered_trace_path = filter_trace_path(1, trace_path)\n",
    "n_r_list = count_rules(sample, filtered_trace_path)\n",
    "print(n_r_list)\n",
    "np.argwhere(n_r_list == np.amax(n_r_list)) ##pour méthode LORE ??"
   ]
  },
  {
   "cell_type": "code",
   "execution_count": null,
   "metadata": {},
   "outputs": [],
   "source": [
    "sample, sample_label = X.iloc[0], y.iloc[0]\n",
    "\n",
    "counterfacts = tree_xai.find_counterfactuals(sample_label)\n",
    "counterfacts\n",
    "\n",
    "n_r = tree_xai.count_rules(sample, counterfacts)\n",
    "n_r"
   ]
  },
  {
   "cell_type": "code",
   "execution_count": null,
   "metadata": {},
   "outputs": [],
   "source": [
    "@staticmethod\n",
    "def format_path(path, result):\n",
    "    \"\"\"Formatte un chemin en un human-readable string représentant les règles de\n",
    "    décision.\n",
    "    \"\"\"\n",
    "    conditions = []\n",
    "    for feature, decision, value in path:\n",
    "        verbe = \"est\" if decision == \"==\" else \"n'est pas\"\n",
    "        condition = f\"'{feature}' {verbe} '{value}'\"\n",
    "        conditions.append(condition)\n",
    "    if len(conditions) > 1:\n",
    "        conditions_str = \", \".join(conditions[:-1]) + \" et \" + conditions[-1]\n",
    "    else:\n",
    "        conditions_str = conditions[0]\n",
    "    return f\"Si {conditions_str} alors classe {result}\""
   ]
  }
 ],
 "metadata": {
  "language_info": {
   "name": "python"
  }
 },
 "nbformat": 4,
 "nbformat_minor": 2
}
