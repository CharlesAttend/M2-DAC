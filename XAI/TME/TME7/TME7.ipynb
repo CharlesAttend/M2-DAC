{
 "cells":[
  {
   "cell_type":"code",
   "source":[
    "PATH = \"\/data\/notebook_files\"\n",
    "elections_data_path = f\"{PATH}\/data\/elections.csv\"\n",
    "\n",
    "# Séparer les caractéristiques et les étiquettes\n",
    "elections_data = pd.read_csv(elections_data_path)\n",
    "X = elections_data.drop(\"Label\", axis=1)\n",
    "y = elections_data[\"Label\"]\n",
    "\n",
    "elections_data"
   ],
   "execution_count":40,
   "outputs":[
    {
     "data":{
      "text\/html":[
       "<div>\n",
       "<style scoped>\n",
       "    .dataframe tbody tr th:only-of-type {\n",
       "        vertical-align: middle;\n",
       "    }\n",
       "\n",
       "    .dataframe tbody tr th {\n",
       "        vertical-align: top;\n",
       "    }\n",
       "\n",
       "    .dataframe thead th {\n",
       "        text-align: right;\n",
       "    }\n",
       "<\/style>\n",
       "<table border=\"1\" class=\"dataframe\">\n",
       "  <thead>\n",
       "    <tr style=\"text-align: right;\">\n",
       "      <th><\/th>\n",
       "      <th>Adresse<\/th>\n",
       "      <th>Majeur?<\/th>\n",
       "      <th>Nationalite<\/th>\n",
       "      <th>Label<\/th>\n",
       "    <\/tr>\n",
       "  <\/thead>\n",
       "  <tbody>\n",
       "    <tr>\n",
       "      <th>0<\/th>\n",
       "      <td>Paris<\/td>\n",
       "      <td>oui<\/td>\n",
       "      <td>Francais<\/td>\n",
       "      <td>1<\/td>\n",
       "    <\/tr>\n",
       "    <tr>\n",
       "      <th>1<\/th>\n",
       "      <td>Paris<\/td>\n",
       "      <td>non<\/td>\n",
       "      <td>Francais<\/td>\n",
       "      <td>-1<\/td>\n",
       "    <\/tr>\n",
       "    <tr>\n",
       "      <th>2<\/th>\n",
       "      <td>Montpellier<\/td>\n",
       "      <td>oui<\/td>\n",
       "      <td>Italien<\/td>\n",
       "      <td>1<\/td>\n",
       "    <\/tr>\n",
       "    <tr>\n",
       "      <th>3<\/th>\n",
       "      <td>Paris<\/td>\n",
       "      <td>oui<\/td>\n",
       "      <td>Suisse<\/td>\n",
       "      <td>-1<\/td>\n",
       "    <\/tr>\n",
       "    <tr>\n",
       "      <th>4<\/th>\n",
       "      <td>Strasbourg<\/td>\n",
       "      <td>non<\/td>\n",
       "      <td>Italien<\/td>\n",
       "      <td>-1<\/td>\n",
       "    <\/tr>\n",
       "    <tr>\n",
       "      <th>5<\/th>\n",
       "      <td>Strasbourg<\/td>\n",
       "      <td>non<\/td>\n",
       "      <td>Francais<\/td>\n",
       "      <td>-1<\/td>\n",
       "    <\/tr>\n",
       "    <tr>\n",
       "      <th>6<\/th>\n",
       "      <td>Strasbourg<\/td>\n",
       "      <td>oui<\/td>\n",
       "      <td>Francais<\/td>\n",
       "      <td>1<\/td>\n",
       "    <\/tr>\n",
       "    <tr>\n",
       "      <th>7<\/th>\n",
       "      <td>Montpellier<\/td>\n",
       "      <td>oui<\/td>\n",
       "      <td>Suisse<\/td>\n",
       "      <td>-1<\/td>\n",
       "    <\/tr>\n",
       "  <\/tbody>\n",
       "<\/table>\n",
       "<\/div>"
      ]
     },
     "metadata":{
      
     },
     "output_type":"display_data"
    }
   ],
   "metadata":{
    "datalore":{
     "node_id":"sU5XKbvUXSHcq2k7cg24mT",
     "type":"CODE",
     "hide_input_from_viewers":true,
     "hide_output_from_viewers":true
    }
   }
  },
  {
   "cell_type":"code",
   "source":[
    "from collections import Counter\n",
    "from copy import copy\n",
    "import pandas as pd\n",
    "from sklearn.model_selection import train_test_split\n",
    "from sklearn.metrics import accuracy_score\n",
    "import numpy as np\n",
    "\n",
    "class SymbolicDecisionTree:\n",
    "    def __init__(self):\n",
    "        self.tree = None\n",
    "        self.data = None\n",
    "\n",
    "    class Node:\n",
    "        def __init__(\n",
    "            self,\n",
    "            feature=None,\n",
    "            value=None,\n",
    "            true_branch=None,\n",
    "            false_branch=None,\n",
    "            result=None,\n",
    "            entropy=None,\n",
    "        ):\n",
    "            self.feature = feature\n",
    "            self.value = value\n",
    "            self.true_branch = true_branch\n",
    "            self.false_branch = false_branch\n",
    "            self.result = result\n",
    "            self.entropy = entropy\n",
    "\n",
    "    def fit(self, X, y):\n",
    "        # Combine features and labels\n",
    "        training_data = pd.concat([X, y], axis=1)\n",
    "        self.data = training_data\n",
    "        self.tree = self.build_tree(training_data)\n",
    "\n",
    "    def predict(self, X):\n",
    "        predictions = [self.predict_single_entry(entry) for _, entry in X.iterrows()]\n",
    "        return predictions\n",
    "\n",
    "    def predict_xai(self, entry):\n",
    "        explanation, _ = self.trace_tree(entry, self.tree, explanation=[])\n",
    "        return explanation\n",
    "    \n",
    "    def counter_fact(self, entry):\n",
    "        explanation, _ = self.untrace_tree(entry, self.tree, explanation=[])\n",
    "        return explanation\n",
    "\n",
    "    def build_tree(self, data):\n",
    "        # If there's no data, or if all targets are the same,\n",
    "        # return a leaf node with the result\n",
    "        if len(data) == 0:\n",
    "            return self.Node()\n",
    "\n",
    "        current_uncertainty = self.gini(data.iloc[:, -1])\n",
    "        # print(data.iloc[:, -1])\n",
    "        best_gain = 0\n",
    "        best_criteria = None\n",
    "        best_sets = None\n",
    "\n",
    "        feature_count = len(data.columns) - 1  # number of attributes\n",
    "\n",
    "        for col in range(feature_count):  # for each feature\n",
    "            feature_values = data.iloc[:, col].unique()  # unique values\n",
    "            for val in feature_values:  # for each value\n",
    "                partitioned_data = self.partition(data, data.columns[col], val)\n",
    "\n",
    "                # Information gain\n",
    "                p = float(partitioned_data[0].shape[0]) \/ data.shape[0]\n",
    "                gain = (\n",
    "                    current_uncertainty\n",
    "                    - p * self.gini(partitioned_data[0].iloc[:, -1])\n",
    "                    - (1 - p) * self.gini(partitioned_data[1].iloc[:, -1])\n",
    "                )\n",
    "\n",
    "                if (\n",
    "                    gain > best_gain\n",
    "                    and len(partitioned_data[0]) > 0\n",
    "                    and len(partitioned_data[1]) > 0\n",
    "                ):\n",
    "                    best_gain = gain\n",
    "                    best_criteria = (data.columns[col], val)\n",
    "                    best_sets = partitioned_data\n",
    "\n",
    "        if best_gain > 0:\n",
    "            true_branch = self.build_tree(best_sets[0])\n",
    "            false_branch = self.build_tree(best_sets[1])\n",
    "            return self.Node(\n",
    "                feature=best_criteria[0],\n",
    "                value=best_criteria[1],\n",
    "                true_branch=true_branch,\n",
    "                false_branch=false_branch,\n",
    "                entropy=current_uncertainty,\n",
    "            )\n",
    "        else:\n",
    "            # We're at a leaf, determine the outcome most frequent class\n",
    "            outcome = data.iloc[:, -1].value_counts().idxmax()\n",
    "            return self.Node(result=outcome, entropy=current_uncertainty)\n",
    "\n",
    "    def predict_single_entry(self, entry):\n",
    "        node = self.tree\n",
    "        while node.result is None:\n",
    "            if entry[node.feature] == node.value:\n",
    "                node = node.true_branch\n",
    "            else:\n",
    "                node = node.false_branch\n",
    "        return node.result\n",
    "\n",
    "    def trace_tree(self, entry, node, explanation):\n",
    "        if node.result is not None:\n",
    "            return explanation, node.result\n",
    "\n",
    "        if entry[node.feature] == node.value:\n",
    "            explanation.append(f\"{node.feature} == {node.value}\")\n",
    "            return self.trace_tree(entry, node.true_branch, explanation)\n",
    "        else:\n",
    "            explanation.append(f\"{node.feature} != {node.value}\")\n",
    "            return self.trace_tree(entry, node.false_branch, explanation)\n",
    "\n",
    "    @staticmethod\n",
    "    def partition(data, feature, value):\n",
    "        true_data = data[data[feature] == value]\n",
    "        false_data = data[data[feature] != value]\n",
    "        return true_data, false_data\n",
    "    \n",
    "    @staticmethod\n",
    "    def gini(labels):\n",
    "        impurity = 1\n",
    "        label_counts = Counter(labels)\n",
    "        for label in label_counts:\n",
    "            prob_of_label = label_counts[label] \/ float(len(labels))\n",
    "            impurity -= prob_of_label**2\n",
    "        return impurity\n",
    "\n",
    "    def display_tree(self, node=None, indent=\"\", branch=\"\"):\n",
    "        \"\"\"\n",
    "        Visualise la structure arborescente de l'arbre dans un format clair et organisé.\n",
    "\n",
    "        Format de sortie :\n",
    "        \"├──\" indique un nœud qui confirme la condition.\n",
    "        \"└──\" indique un nœud qui ne confirme pas la condition.\n",
    "        Les feuilles affichent le résultat de la classe.\n",
    "        Les nœuds internes affichent le critère de décision et son entropie.\n",
    "\n",
    "        Exemple :\n",
    "        feature_name1 == feature_value1? (Entropy = 0.1234)\n",
    "        ├── Class : Class_A\n",
    "        └── feature_name2 == feature_value2? (Entropy = 0.5678)\n",
    "            ├── Class : Class_B\n",
    "            └── Class : Class_C\n",
    "\n",
    "        Dans cet exemple :\n",
    "        - Si feature_name1 == feature_value1, l'arbre de décision le classe comme\n",
    "        'Class_A'.\n",
    "        - Sinon, il vérifie si feature_name2 == feature_value2 ; si c'est vrai, il est\n",
    "        classé comme 'Class_B', et si c'est faux, il est classé comme 'Class_C'.\n",
    "        \"\"\"\n",
    "\n",
    "        if node is None:\n",
    "            node = self.tree\n",
    "\n",
    "        # Base case: if it's a leaf node, print the result and return\n",
    "        if node.result is not None:\n",
    "            print(f\"{indent}{branch}Class: {node.result}\")\n",
    "            return\n",
    "\n",
    "        # Print the criterion for the current node\n",
    "        print(\n",
    "            f\"{indent}{branch}{node.feature} == {node.value}? (Entropy = {node.entropy:.4f})\"\n",
    "        )\n",
    "\n",
    "        # Recursive case: print the true and false branches\n",
    "        new_indent = indent + (\"│   \" if branch == \"├── \" else \"    \")\n",
    "\n",
    "        # For true branch, use '├──'\n",
    "        self.display_tree(node.true_branch, new_indent, \"├── \")\n",
    "\n",
    "        # For false branch, use '└──'\n",
    "        self.display_tree(node.false_branch, new_indent, \"└── \")"
   ],
   "execution_count":113,
   "outputs":[
    
   ],
   "metadata":{
    "datalore":{
     "node_id":"nbgdVeUsDTR3u0AnCbAtJW",
     "type":"CODE",
     "hide_input_from_viewers":true,
     "hide_output_from_viewers":true
    }
   }
  },
  {
   "cell_type":"code",
   "source":[
    "# Diviser les données en ensembles d'entraînement et de test\n",
    "X_train, X_test, y_train, y_test = train_test_split(\n",
    "    X, y, test_size=0.3, random_state=42\n",
    ")\n",
    "\n",
    "# Initialiser et entraîner l'arbre de décision symbolique\n",
    "tree_xai = SymbolicDecisionTree()\n",
    "tree_xai.fit(X_train, y_train)\n",
    "\n",
    "# Évaluer la précision de l'arbre de décision\n",
    "predictions = tree_xai.predict(X_test)\n",
    "accuracy = accuracy_score(y_test, predictions)\n",
    "print(f\"Accuracy: {accuracy * 100:.4f}%\")"
   ],
   "execution_count":72,
   "outputs":[
    {
     "name":"stdout",
     "text":[
      "Accuracy: 100.0000%\n"
     ],
     "output_type":"stream"
    }
   ],
   "metadata":{
    "datalore":{
     "node_id":"E2DTytp1Ds7XaHOozQk3Tr",
     "type":"CODE",
     "hide_input_from_viewers":true,
     "hide_output_from_viewers":true
    }
   }
  },
  {
   "cell_type":"code",
   "source":[
    "\n",
    "def untrace_tree(example_class, trace_path, node, before):\n",
    "    if node.result is not None:\n",
    "        before.append((None, node.result))\n",
    "        trace_path.append(before)\n",
    "        print(f\"End of tree at {node.result}\")\n",
    "    else:\n",
    "        before_false = copy(before)\n",
    "        before_false.append((node.feature,\"!=\", node.value))\n",
    "        before_true = copy(before)\n",
    "        before_true.append((node.feature,\"==\", node.value))\n",
    "        untrace_tree(example_class, trace_path, node.false_branch, before_false)\n",
    "        untrace_tree(example_class, trace_path, node.true_branch, before_true)\n",
    "\n",
    "trace_path = []\n",
    "untrace_tree(1, trace_path, tree_xai.tree, [])\n",
    "trace_path"
   ],
   "execution_count":94,
   "outputs":[
    {
     "name":"stdout",
     "text":[
      "End of tree at -1\n",
      "End of tree at 1\n",
      "End of tree at -1\n"
     ],
     "output_type":"stream"
    },
    {
     "data":{
      "text\/plain":[
       "[[('Nationalite', '!=', 'Suisse'), ('Majeur?', '!=', 'oui'), (None, -1)],\n",
       " [('Nationalite', '!=', 'Suisse'), ('Majeur?', '==', 'oui'), (None, 1)],\n",
       " [('Nationalite', '==', 'Suisse'), (None, -1)]]"
      ]
     },
     "metadata":{
      
     },
     "output_type":"display_data"
    }
   ],
   "metadata":{
    "datalore":{
     "node_id":"EktSxe2KwYMnX1lJfLbhjn",
     "type":"CODE",
     "hide_input_from_viewers":true,
     "hide_output_from_viewers":true
    }
   }
  },
  {
   "cell_type":"code",
   "source":[
    "def filter_trace_path(class_to_not_keep, trace_path):\n",
    "    l = []\n",
    "    for path in trace_path:\n",
    "        end_class = path[-1][1]\n",
    "        if end_class != class_to_not_keep:\n",
    "            l.append(path)\n",
    "    return l\n",
    "filtered_trace_path = filter_trace_path(1,trace_path)\n",
    "filtered_trace_path"
   ],
   "execution_count":108,
   "outputs":[
    {
     "data":{
      "text\/plain":[
       "[[('Nationalite', '!=', 'Suisse'), ('Majeur?', '!=', 'oui'), (None, -1)],\n",
       " [('Nationalite', '==', 'Suisse'), (None, -1)]]"
      ]
     },
     "metadata":{
      
     },
     "output_type":"display_data"
    }
   ],
   "metadata":{
    "datalore":{
     "node_id":"eNzQ7g4BDwvMulTAj9LBpm",
     "type":"CODE",
     "hide_input_from_viewers":true,
     "hide_output_from_viewers":true
    }
   }
  },
  {
   "cell_type":"code",
   "source":[
    "def count_rules(to_explain, trace_path):\n",
    "    l = []\n",
    "    for path in trace_path:\n",
    "        n_r = 0\n",
    "        for rule in path[:-1]:\n",
    "            a,b,c = rule\n",
    "            if b == '!=':\n",
    "                if to_explain[a] != c: # l'exemple valide la règle\n",
    "                    pass\n",
    "                else: # l'exemple ne valise pas la règle \n",
    "                    n_r += 1\n",
    "            else: # b == '=='\n",
    "                if to_explain[a] == c: # l'exemple valide la règle\n",
    "                    pass\n",
    "                else: # l'exemple ne valise pas la règle \n",
    "                    n_r += 1\n",
    "        l.append(n_r)\n",
    "    return np.array(l)\n",
    "sample = X.iloc[0]\n",
    "class_to_not_keep = y.iloc[0]\n",
    "print(sample)\n",
    "print(class_to_not_keep)\n",
    "filtered_trace_path = filter_trace_path(1, trace_path)\n",
    "n_r_list = count_rules(sample, filtered_trace_path)\n",
    "np.argwhere(n_r_list == np.amax(n_r_list)) "
   ],
   "execution_count":118,
   "outputs":[
    {
     "name":"stdout",
     "text":[
      "Adresse           Paris\n",
      "Majeur?             oui\n",
      "Nationalite    Francais\n",
      "Name: 0, dtype: object\n",
      "1\n"
     ],
     "output_type":"stream"
    },
    {
     "data":{
      "text\/html":[
       "<pre>array([[0],\n",
       "       [1]])<\/pre>"
      ]
     },
     "metadata":{
      
     },
     "output_type":"display_data"
    }
   ],
   "metadata":{
    "datalore":{
     "node_id":"rmX5EaoKcNsCrIkTvdQpXt",
     "type":"CODE",
     "hide_input_from_viewers":true,
     "hide_output_from_viewers":true
    }
   }
  }
 ],
 "metadata":{
  "kernelspec":{
   "display_name":"Python",
   "language":"python",
   "name":"python"
  },
  "datalore":{
   "computation_mode":"JUPYTER",
   "package_manager":"pip",
   "base_environment":"default",
   "packages":[
    
   ],
   "report_row_ids":[
    
   ],
   "version":3
  }
 },
 "nbformat":4,
 "nbformat_minor":4
}